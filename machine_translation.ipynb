{
 "cells": [
  {
   "cell_type": "markdown",
   "metadata": {
    "collapsed": true
   },
   "source": [
    "# Artificial Intelligence Nanodegree\n",
    "## Machine Translation Project\n",
    "In this notebook, sections that end with **'(IMPLEMENTATION)'** in the header indicate that the following blocks of code will require additional functionality which you must provide. Please be sure to read the instructions carefully!\n",
    "\n",
    "## Introduction\n",
    "In this notebook, you will build a deep neural network that functions as part of an end-to-end machine translation pipeline. Your completed pipeline will accept English text as input and return the French translation.\n",
    "\n",
    "- **Preprocess** - You'll convert text to sequence of integers.\n",
    "- **Models** Create models which accepts a sequence of integers as input and returns a probability distribution over possible translations. After learning about the basic types of neural networks that are often used for machine translation, you will engage in your own investigations, to design your own model!\n",
    "- **Prediction** Run the model on English text."
   ]
  },
  {
   "cell_type": "code",
   "execution_count": 1,
   "metadata": {},
   "outputs": [],
   "source": [
    "%load_ext autoreload\n",
    "%aimport helper, tests\n",
    "%autoreload 1"
   ]
  },
  {
   "cell_type": "code",
   "execution_count": 2,
   "metadata": {},
   "outputs": [
    {
     "name": "stderr",
     "output_type": "stream",
     "text": [
      "Using TensorFlow backend.\n"
     ]
    }
   ],
   "source": [
    "import collections\n",
    "\n",
    "import helper\n",
    "import numpy as np\n",
    "import project_tests as tests\n",
    "\n",
    "from keras.preprocessing.text import Tokenizer\n",
    "from keras.preprocessing.sequence import pad_sequences\n",
    "from keras.models import Model\n",
    "from keras.layers import GRU, Input, Dense, TimeDistributed, Activation, RepeatVector, Bidirectional\n",
    "from keras.layers.embeddings import Embedding\n",
    "from keras.optimizers import Adam\n",
    "from keras.losses import sparse_categorical_crossentropy"
   ]
  },
  {
   "cell_type": "markdown",
   "metadata": {},
   "source": [
    "### Verify access to the GPU\n",
    "The following test applies only if you expect to be using a GPU, e.g., while running in a Udacity Workspace or using an AWS instance with GPU support. Run the next cell, and verify that the device_type is \"GPU\".\n",
    "- If the device is not GPU & you are running from a Udacity Workspace, then save your workspace with the icon at the top, then click \"enable\" at the bottom of the workspace.\n",
    "- If the device is not GPU & you are running from an AWS instance, then refer to the cloud computing instructions in the classroom to verify your setup steps."
   ]
  },
  {
   "cell_type": "code",
   "execution_count": 3,
   "metadata": {},
   "outputs": [
    {
     "name": "stdout",
     "output_type": "stream",
     "text": [
      "[name: \"/device:CPU:0\"\n",
      "device_type: \"CPU\"\n",
      "memory_limit: 268435456\n",
      "locality {\n",
      "}\n",
      "incarnation: 12978613071203469372\n",
      ", name: \"/device:XLA_GPU:0\"\n",
      "device_type: \"XLA_GPU\"\n",
      "memory_limit: 17179869184\n",
      "locality {\n",
      "}\n",
      "incarnation: 555038331105052745\n",
      "physical_device_desc: \"device: XLA_GPU device\"\n",
      ", name: \"/device:XLA_GPU:1\"\n",
      "device_type: \"XLA_GPU\"\n",
      "memory_limit: 17179869184\n",
      "locality {\n",
      "}\n",
      "incarnation: 15620519686755556487\n",
      "physical_device_desc: \"device: XLA_GPU device\"\n",
      ", name: \"/device:XLA_CPU:0\"\n",
      "device_type: \"XLA_CPU\"\n",
      "memory_limit: 17179869184\n",
      "locality {\n",
      "}\n",
      "incarnation: 3959463786169793142\n",
      "physical_device_desc: \"device: XLA_CPU device\"\n",
      ", name: \"/device:GPU:0\"\n",
      "device_type: \"GPU\"\n",
      "memory_limit: 10111454413\n",
      "locality {\n",
      "  bus_id: 1\n",
      "  links {\n",
      "    link {\n",
      "      device_id: 1\n",
      "      type: \"StreamExecutor\"\n",
      "      strength: 1\n",
      "    }\n",
      "  }\n",
      "}\n",
      "incarnation: 16979463637108626861\n",
      "physical_device_desc: \"device: 0, name: GeForce GTX 1080 Ti, pci bus id: 0000:01:00.0, compute capability: 6.1\"\n",
      ", name: \"/device:GPU:1\"\n",
      "device_type: \"GPU\"\n",
      "memory_limit: 10988499764\n",
      "locality {\n",
      "  bus_id: 1\n",
      "  links {\n",
      "    link {\n",
      "      type: \"StreamExecutor\"\n",
      "      strength: 1\n",
      "    }\n",
      "  }\n",
      "}\n",
      "incarnation: 9809774453310797267\n",
      "physical_device_desc: \"device: 1, name: GeForce GTX 1080 Ti, pci bus id: 0000:02:00.0, compute capability: 6.1\"\n",
      "]\n"
     ]
    }
   ],
   "source": [
    "from tensorflow.python.client import device_lib\n",
    "print(device_lib.list_local_devices())"
   ]
  },
  {
   "cell_type": "markdown",
   "metadata": {},
   "source": [
    "## Dataset\n",
    "We begin by investigating the dataset that will be used to train and evaluate your pipeline.  The most common datasets used for machine translation are from [WMT](http://www.statmt.org/).  However, that will take a long time to train a neural network on.  We'll be using a dataset we created for this project that contains a small vocabulary.  You'll be able to train your model in a reasonable time with this dataset.\n",
    "### Load Data\n",
    "The data is located in `data/small_vocab_en` and `data/small_vocab_fr`. The `small_vocab_en` file contains English sentences with their French translations in the `small_vocab_fr` file. Load the English and French data from these files from running the cell below."
   ]
  },
  {
   "cell_type": "code",
   "execution_count": 4,
   "metadata": {},
   "outputs": [
    {
     "name": "stdout",
     "output_type": "stream",
     "text": [
      "Dataset Loaded\n"
     ]
    }
   ],
   "source": [
    "# Load English data\n",
    "english_sentences = helper.load_data('data/small_vocab_en')\n",
    "# Load French data\n",
    "french_sentences = helper.load_data('data/small_vocab_fr')\n",
    "\n",
    "print('Dataset Loaded')"
   ]
  },
  {
   "cell_type": "markdown",
   "metadata": {},
   "source": [
    "### Files\n",
    "Each line in `small_vocab_en` contains an English sentence with the respective translation in each line of `small_vocab_fr`.  View the first two lines from each file."
   ]
  },
  {
   "cell_type": "code",
   "execution_count": 5,
   "metadata": {},
   "outputs": [
    {
     "name": "stdout",
     "output_type": "stream",
     "text": [
      "small_vocab_en Line 1:  new jersey is sometimes quiet during autumn , and it is snowy in april .\n",
      "small_vocab_fr Line 1:  new jersey est parfois calme pendant l' automne , et il est neigeux en avril .\n",
      "small_vocab_en Line 2:  the united states is usually chilly during july , and it is usually freezing in november .\n",
      "small_vocab_fr Line 2:  les états-unis est généralement froid en juillet , et il gèle habituellement en novembre .\n"
     ]
    }
   ],
   "source": [
    "for sample_i in range(2):\n",
    "    print('small_vocab_en Line {}:  {}'.format(sample_i + 1, english_sentences[sample_i]))\n",
    "    print('small_vocab_fr Line {}:  {}'.format(sample_i + 1, french_sentences[sample_i]))"
   ]
  },
  {
   "cell_type": "markdown",
   "metadata": {},
   "source": [
    "From looking at the sentences, you can see they have been preprocessed already.  The puncuations have been delimited using spaces. All the text have been converted to lowercase.  This should save you some time, but the text requires more preprocessing.\n",
    "### Vocabulary\n",
    "The complexity of the problem is determined by the complexity of the vocabulary.  A more complex vocabulary is a more complex problem.  Let's look at the complexity of the dataset we'll be working with."
   ]
  },
  {
   "cell_type": "code",
   "execution_count": 6,
   "metadata": {},
   "outputs": [
    {
     "name": "stdout",
     "output_type": "stream",
     "text": [
      "1823250 English words.\n",
      "227 unique English words.\n",
      "10 Most common words in the English dataset:\n",
      "\"is\" \",\" \".\" \"in\" \"it\" \"during\" \"the\" \"but\" \"and\" \"sometimes\"\n",
      "\n",
      "1961295 French words.\n",
      "355 unique French words.\n",
      "10 Most common words in the French dataset:\n",
      "\"est\" \".\" \",\" \"en\" \"il\" \"les\" \"mais\" \"et\" \"la\" \"parfois\"\n"
     ]
    }
   ],
   "source": [
    "english_words_counter = collections.Counter([word for sentence in english_sentences for word in sentence.split()])\n",
    "french_words_counter = collections.Counter([word for sentence in french_sentences for word in sentence.split()])\n",
    "\n",
    "print('{} English words.'.format(len([word for sentence in english_sentences for word in sentence.split()])))\n",
    "print('{} unique English words.'.format(len(english_words_counter)))\n",
    "print('10 Most common words in the English dataset:')\n",
    "print('\"' + '\" \"'.join(list(zip(*english_words_counter.most_common(10)))[0]) + '\"')\n",
    "print()\n",
    "print('{} French words.'.format(len([word for sentence in french_sentences for word in sentence.split()])))\n",
    "print('{} unique French words.'.format(len(french_words_counter)))\n",
    "print('10 Most common words in the French dataset:')\n",
    "print('\"' + '\" \"'.join(list(zip(*french_words_counter.most_common(10)))[0]) + '\"')"
   ]
  },
  {
   "cell_type": "markdown",
   "metadata": {},
   "source": [
    "For comparison, _Alice's Adventures in Wonderland_ contains 2,766 unique words of a total of 15,500 words.\n",
    "## Preprocess\n",
    "For this project, you won't use text data as input to your model. Instead, you'll convert the text into sequences of integers using the following preprocess methods:\n",
    "1. Tokenize the words into ids\n",
    "2. Add padding to make all the sequences the same length.\n",
    "\n",
    "Time to start preprocessing the data...\n",
    "### Tokenize (IMPLEMENTATION)\n",
    "For a neural network to predict on text data, it first has to be turned into data it can understand. Text data like \"dog\" is a sequence of ASCII character encodings.  Since a neural network is a series of multiplication and addition operations, the input data needs to be number(s).\n",
    "\n",
    "We can turn each character into a number or each word into a number.  These are called character and word ids, respectively.  Character ids are used for character level models that generate text predictions for each character.  A word level model uses word ids that generate text predictions for each word.  Word level models tend to learn better, since they are lower in complexity, so we'll use those.\n",
    "\n",
    "Turn each sentence into a sequence of words ids using Keras's [`Tokenizer`](https://keras.io/preprocessing/text/#tokenizer) function. Use this function to tokenize `english_sentences` and `french_sentences` in the cell below.\n",
    "\n",
    "Running the cell will run `tokenize` on sample data and show output for debugging."
   ]
  },
  {
   "cell_type": "code",
   "execution_count": 7,
   "metadata": {},
   "outputs": [
    {
     "name": "stdout",
     "output_type": "stream",
     "text": [
      "{'the': 1, 'quick': 2, 'a': 3, 'brown': 4, 'fox': 5, 'jumps': 6, 'over': 7, 'lazy': 8, 'dog': 9, 'by': 10, 'jove': 11, 'my': 12, 'study': 13, 'of': 14, 'lexicography': 15, 'won': 16, 'prize': 17, 'this': 18, 'is': 19, 'short': 20, 'sentence': 21}\n",
      "\n",
      "Sequence 1 in x\n",
      "  Input:  The quick brown fox jumps over the lazy dog .\n",
      "  Output: [1, 2, 4, 5, 6, 7, 1, 8, 9]\n",
      "Sequence 2 in x\n",
      "  Input:  By Jove , my quick study of lexicography won a prize .\n",
      "  Output: [10, 11, 12, 2, 13, 14, 15, 16, 3, 17]\n",
      "Sequence 3 in x\n",
      "  Input:  This is a short sentence .\n",
      "  Output: [18, 19, 3, 20, 21]\n"
     ]
    }
   ],
   "source": [
    "def tokenize(x):\n",
    "    \"\"\"\n",
    "    Tokenize x\n",
    "    :param x: List of sentences/strings to be tokenized\n",
    "    :return: Tuple of (tokenized x data, tokenizer used to tokenize x)\n",
    "    \"\"\"\n",
    "    # TODO: Implement\n",
    "    x_tk = Tokenizer()\n",
    "    x_tk.fit_on_texts(x)\n",
    "    return x_tk.texts_to_sequences(x), x_tk\n",
    "tests.test_tokenize(tokenize)\n",
    "\n",
    "# Tokenize Example output\n",
    "text_sentences = [\n",
    "    'The quick brown fox jumps over the lazy dog .',\n",
    "    'By Jove , my quick study of lexicography won a prize .',\n",
    "    'This is a short sentence .']\n",
    "text_tokenized, text_tokenizer = tokenize(text_sentences)\n",
    "print(text_tokenizer.word_index)\n",
    "print()\n",
    "for sample_i, (sent, token_sent) in enumerate(zip(text_sentences, text_tokenized)):\n",
    "    print('Sequence {} in x'.format(sample_i + 1))\n",
    "    print('  Input:  {}'.format(sent))\n",
    "    print('  Output: {}'.format(token_sent))"
   ]
  },
  {
   "cell_type": "markdown",
   "metadata": {},
   "source": [
    "### Padding (IMPLEMENTATION)\n",
    "When batching the sequence of word ids together, each sequence needs to be the same length.  Since sentences are dynamic in length, we can add padding to the end of the sequences to make them the same length.\n",
    "\n",
    "Make sure all the English sequences have the same length and all the French sequences have the same length by adding padding to the **end** of each sequence using Keras's [`pad_sequences`](https://keras.io/preprocessing/sequence/#pad_sequences) function."
   ]
  },
  {
   "cell_type": "code",
   "execution_count": 8,
   "metadata": {},
   "outputs": [
    {
     "name": "stdout",
     "output_type": "stream",
     "text": [
      "Sequence 1 in x\n",
      "  Input:  [1 2 4 5 6 7 1 8 9]\n",
      "  Output: [1 2 4 5 6 7 1 8 9 0]\n",
      "Sequence 2 in x\n",
      "  Input:  [10 11 12  2 13 14 15 16  3 17]\n",
      "  Output: [10 11 12  2 13 14 15 16  3 17]\n",
      "Sequence 3 in x\n",
      "  Input:  [18 19  3 20 21]\n",
      "  Output: [18 19  3 20 21  0  0  0  0  0]\n"
     ]
    }
   ],
   "source": [
    "def pad(x, length=None):\n",
    "    \"\"\"\n",
    "    Pad x\n",
    "    :param x: List of sequences.\n",
    "    :param length: Length to pad the sequence to.  If None, use length of longest sequence in x.\n",
    "    :return: Padded numpy array of sequences\n",
    "    \"\"\"\n",
    "    # TODO: Implement\n",
    "    if length is None:\n",
    "        length = max([ len(e) for e in x])\n",
    "    return pad_sequences(x, maxlen=length, padding='post')\n",
    "tests.test_pad(pad)\n",
    "\n",
    "# Pad Tokenized output\n",
    "test_pad = pad(text_tokenized)\n",
    "for sample_i, (token_sent, pad_sent) in enumerate(zip(text_tokenized, test_pad)):\n",
    "    print('Sequence {} in x'.format(sample_i + 1))\n",
    "    print('  Input:  {}'.format(np.array(token_sent)))\n",
    "    print('  Output: {}'.format(pad_sent))"
   ]
  },
  {
   "cell_type": "markdown",
   "metadata": {},
   "source": [
    "### Preprocess Pipeline\n",
    "Your focus for this project is to build neural network architecture, so we won't ask you to create a preprocess pipeline.  Instead, we've provided you with the implementation of the `preprocess` function."
   ]
  },
  {
   "cell_type": "code",
   "execution_count": 9,
   "metadata": {},
   "outputs": [
    {
     "name": "stdout",
     "output_type": "stream",
     "text": [
      "Data Preprocessed\n",
      "Max English sentence length: 15\n",
      "Max French sentence length: 21\n",
      "English vocabulary size: 199\n",
      "French vocabulary size: 344\n"
     ]
    }
   ],
   "source": [
    "def preprocess(x, y):\n",
    "    \"\"\"\n",
    "    Preprocess x and y\n",
    "    :param x: Feature List of sentences\n",
    "    :param y: Label List of sentences\n",
    "    :return: Tuple of (Preprocessed x, Preprocessed y, x tokenizer, y tokenizer)\n",
    "    \"\"\"\n",
    "    preprocess_x, x_tk = tokenize(x)\n",
    "    preprocess_y, y_tk = tokenize(y)\n",
    "\n",
    "    preprocess_x = pad(preprocess_x)\n",
    "    preprocess_y = pad(preprocess_y)\n",
    "\n",
    "    # Keras's sparse_categorical_crossentropy function requires the labels to be in 3 dimensions\n",
    "    preprocess_y = preprocess_y.reshape(*preprocess_y.shape, 1)\n",
    "\n",
    "    return preprocess_x, preprocess_y, x_tk, y_tk\n",
    "\n",
    "preproc_english_sentences, preproc_french_sentences, english_tokenizer, french_tokenizer =\\\n",
    "    preprocess(english_sentences, french_sentences)\n",
    "    \n",
    "max_english_sequence_length = preproc_english_sentences.shape[1]\n",
    "max_french_sequence_length = preproc_french_sentences.shape[1]\n",
    "english_vocab_size = len(english_tokenizer.word_index)\n",
    "french_vocab_size = len(french_tokenizer.word_index)\n",
    "\n",
    "print('Data Preprocessed')\n",
    "print(\"Max English sentence length:\", max_english_sequence_length)\n",
    "print(\"Max French sentence length:\", max_french_sequence_length)\n",
    "print(\"English vocabulary size:\", english_vocab_size)\n",
    "print(\"French vocabulary size:\", french_vocab_size)"
   ]
  },
  {
   "cell_type": "markdown",
   "metadata": {},
   "source": [
    "## Models\n",
    "In this section, you will experiment with various neural network architectures.\n",
    "You will begin by training four relatively simple architectures.\n",
    "- Model 1 is a simple RNN\n",
    "- Model 2 is a RNN with Embedding\n",
    "- Model 3 is a Bidirectional RNN\n",
    "- Model 4 is an optional Encoder-Decoder RNN\n",
    "\n",
    "After experimenting with the four simple architectures, you will construct a deeper architecture that is designed to outperform all four models.\n",
    "### Ids Back to Text\n",
    "The neural network will be translating the input to words ids, which isn't the final form we want.  We want the French translation.  The function `logits_to_text` will bridge the gab between the logits from the neural network to the French translation.  You'll be using this function to better understand the output of the neural network."
   ]
  },
  {
   "cell_type": "code",
   "execution_count": 10,
   "metadata": {},
   "outputs": [
    {
     "name": "stdout",
     "output_type": "stream",
     "text": [
      "`logits_to_text` function loaded.\n"
     ]
    }
   ],
   "source": [
    "def logits_to_text(logits, tokenizer):\n",
    "    \"\"\"\n",
    "    Turn logits from a neural network into text using the tokenizer\n",
    "    :param logits: Logits from a neural network\n",
    "    :param tokenizer: Keras Tokenizer fit on the labels\n",
    "    :return: String that represents the text of the logits\n",
    "    \"\"\"\n",
    "    index_to_words = {id: word for word, id in tokenizer.word_index.items()}\n",
    "    index_to_words[0] = '<PAD>'\n",
    "\n",
    "    return ' '.join([index_to_words[prediction] for prediction in np.argmax(logits, 1)])\n",
    "\n",
    "print('`logits_to_text` function loaded.')"
   ]
  },
  {
   "cell_type": "markdown",
   "metadata": {},
   "source": [
    "### Model 1: RNN (IMPLEMENTATION)\n",
    "![RNN](images/rnn.png)\n",
    "A basic RNN model is a good baseline for sequence data.  In this model, you'll build a RNN that translates English to French."
   ]
  },
  {
   "cell_type": "code",
   "execution_count": 46,
   "metadata": {},
   "outputs": [
    {
     "name": "stdout",
     "output_type": "stream",
     "text": [
      "Tensor(\"input_51:0\", shape=(?, 21, 1), dtype=float32)\n",
      "Tensor(\"gru_74/transpose_1:0\", shape=(?, ?, 64), dtype=float32)\n",
      "Tensor(\"time_distributed_29/Reshape_1:0\", shape=(?, 21, 344), dtype=float32)\n",
      "Tensor(\"input_52:0\", shape=(?, 21, 1), dtype=float32)\n",
      "Tensor(\"gru_75/transpose_1:0\", shape=(?, ?, 64), dtype=float32)\n",
      "Tensor(\"time_distributed_30/Reshape_1:0\", shape=(?, 21, 344), dtype=float32)\n",
      "Train on 110288 samples, validate on 27573 samples\n",
      "Epoch 1/10\n",
      "110288/110288 [==============================] - 4s 40us/step - loss: 3.5017 - acc: 0.4145 - val_loss: nan - val_acc: 0.4559\n",
      "Epoch 2/10\n",
      "110288/110288 [==============================] - 2s 20us/step - loss: 2.4713 - acc: 0.4681 - val_loss: nan - val_acc: 0.4795\n",
      "Epoch 3/10\n",
      "110288/110288 [==============================] - 2s 20us/step - loss: 2.2234 - acc: 0.4989 - val_loss: nan - val_acc: 0.5155\n",
      "Epoch 4/10\n",
      "110288/110288 [==============================] - 2s 21us/step - loss: 1.9881 - acc: 0.5374 - val_loss: nan - val_acc: 0.5539\n",
      "Epoch 5/10\n",
      "110288/110288 [==============================] - 2s 20us/step - loss: 1.8227 - acc: 0.5633 - val_loss: nan - val_acc: 0.5768\n",
      "Epoch 6/10\n",
      "110288/110288 [==============================] - 2s 20us/step - loss: 1.7106 - acc: 0.5794 - val_loss: nan - val_acc: 0.5838\n",
      "Epoch 7/10\n",
      "110288/110288 [==============================] - 2s 21us/step - loss: 1.6333 - acc: 0.5886 - val_loss: nan - val_acc: 0.5956\n",
      "Epoch 8/10\n",
      "110288/110288 [==============================] - 2s 20us/step - loss: 1.5750 - acc: 0.5971 - val_loss: nan - val_acc: 0.6023\n",
      "Epoch 9/10\n",
      "110288/110288 [==============================] - 2s 20us/step - loss: 1.5272 - acc: 0.6045 - val_loss: nan - val_acc: 0.6058\n",
      "Epoch 10/10\n",
      "110288/110288 [==============================] - 2s 20us/step - loss: 1.4864 - acc: 0.6102 - val_loss: nan - val_acc: 0.6134\n",
      "new jersey est parfois parfois en en mais il est est en en <PAD> <PAD> <PAD> <PAD> <PAD> <PAD> <PAD> <PAD>\n"
     ]
    }
   ],
   "source": [
    "def simple_model(input_shape, output_sequence_length, english_vocab_size, french_vocab_size):\n",
    "    \"\"\"\n",
    "    Build and train a basic RNN on x and y\n",
    "    :param input_shape: Tuple of input shape\n",
    "    :param output_sequence_length: Length of output sequence\n",
    "    :param english_vocab_size: Number of unique English words in the dataset\n",
    "    :param french_vocab_size: Number of unique French words in the dataset\n",
    "    :return: Keras model built, but not trained\n",
    "    \"\"\"\n",
    "    # TODO: Build the layers\n",
    "    learning_rate = 1e-3\n",
    "    \n",
    "    input_seq = Input(input_shape[1:])\n",
    "\n",
    "    rnn = GRU(64, return_sequences=True)(input_seq)\n",
    "\n",
    "    logits = TimeDistributed(Dense(french_vocab_size))(rnn)\n",
    "\n",
    "    model = Model(input_seq, Activation('softmax')(logits))\n",
    "    model.compile(loss=sparse_categorical_crossentropy,\n",
    "                  optimizer=Adam(learning_rate),\n",
    "                  metrics=['accuracy'])\n",
    "    return model\n",
    "tests.test_simple_model(simple_model)\n",
    "\n",
    "# Reshaping the input to work with a basic RNN\n",
    "tmp_x = pad(preproc_english_sentences, max_french_sequence_length)\n",
    "tmp_x = tmp_x.reshape((-1, preproc_french_sentences.shape[-2], 1))\n",
    "\n",
    "# Train the neural network\n",
    "simple_rnn_model = simple_model(\n",
    "    tmp_x.shape,\n",
    "    max_french_sequence_length,\n",
    "    english_vocab_size,\n",
    "    french_vocab_size)\n",
    "simple_rnn_model.fit(tmp_x, preproc_french_sentences, batch_size=1024, epochs=10, validation_split=0.2)\n",
    "\n",
    "# Print prediction(s)\n",
    "print(logits_to_text(simple_rnn_model.predict(tmp_x[:1])[0], french_tokenizer))"
   ]
  },
  {
   "cell_type": "markdown",
   "metadata": {},
   "source": [
    "### Model 2: Embedding (IMPLEMENTATION)\n",
    "![RNN](images/embedding.png)\n",
    "You've turned the words into ids, but there's a better representation of a word.  This is called word embeddings.  An embedding is a vector representation of the word that is close to similar words in n-dimensional space, where the n represents the size of the embedding vectors.\n",
    "\n",
    "In this model, you'll create a RNN model using embedding."
   ]
  },
  {
   "cell_type": "code",
   "execution_count": 23,
   "metadata": {},
   "outputs": [
    {
     "name": "stdout",
     "output_type": "stream",
     "text": [
      "Train on 110288 samples, validate on 27573 samples\n",
      "Epoch 1/10\n",
      "110288/110288 [==============================] - 3s 29us/step - loss: 3.7634 - acc: 0.4021 - val_loss: nan - val_acc: 0.4093\n",
      "Epoch 2/10\n",
      "110288/110288 [==============================] - 2s 21us/step - loss: 2.6770 - acc: 0.4489 - val_loss: nan - val_acc: 0.5098\n",
      "Epoch 3/10\n",
      "110288/110288 [==============================] - 2s 21us/step - loss: 1.9714 - acc: 0.5578 - val_loss: nan - val_acc: 0.6177\n",
      "Epoch 4/10\n",
      "110288/110288 [==============================] - 2s 21us/step - loss: 1.4484 - acc: 0.6576 - val_loss: nan - val_acc: 0.6933\n",
      "Epoch 5/10\n",
      "110288/110288 [==============================] - 2s 21us/step - loss: 1.1641 - acc: 0.7227 - val_loss: nan - val_acc: 0.7466\n",
      "Epoch 6/10\n",
      "110288/110288 [==============================] - 2s 21us/step - loss: 0.9659 - acc: 0.7625 - val_loss: nan - val_acc: 0.7774\n",
      "Epoch 7/10\n",
      "110288/110288 [==============================] - 2s 21us/step - loss: 0.8298 - acc: 0.7875 - val_loss: nan - val_acc: 0.7973\n",
      "Epoch 8/10\n",
      "110288/110288 [==============================] - 2s 21us/step - loss: 0.7337 - acc: 0.8050 - val_loss: nan - val_acc: 0.8138\n",
      "Epoch 9/10\n",
      "110288/110288 [==============================] - 2s 21us/step - loss: 0.6603 - acc: 0.8198 - val_loss: nan - val_acc: 0.8266\n",
      "Epoch 10/10\n",
      "110288/110288 [==============================] - 2s 21us/step - loss: 0.6044 - acc: 0.8321 - val_loss: nan - val_acc: 0.8388\n",
      "new jersey est parfois calme en l' et il il neigeux neigeux en <PAD> <PAD> <PAD> <PAD> <PAD> <PAD> <PAD> <PAD>\n"
     ]
    }
   ],
   "source": [
    "#\n",
    "# references\n",
    "#   * https://machinelearningmastery.com/use-word-embedding-layers-deep-learning-keras/\n",
    "#\n",
    "def embed_model(input_shape, output_sequence_length, english_vocab_size, french_vocab_size):\n",
    "    \"\"\"\n",
    "    Build and train a RNN model using word embedding on x and y\n",
    "    :param input_shape: Tuple of input shape\n",
    "    :param output_sequence_length: Length of output sequence\n",
    "    :param english_vocab_size: Number of unique English words in the dataset\n",
    "    :param french_vocab_size: Number of unique French words in the dataset\n",
    "    :return: Keras model built, but not trained\n",
    "    \"\"\"\n",
    "    learning_rate = 1e-3\n",
    "    \n",
    "    input_seq = Input(input_shape[1:])\n",
    "    embed_seq = Embedding(english_vocab_size, 64, input_length=input_shape[1])(input_seq)\n",
    "    rnn = GRU(64, return_sequences=True)(embed_seq)\n",
    "    logits = TimeDistributed(Dense(french_vocab_size))(rnn)\n",
    "\n",
    "    model = Model(input_seq, Activation('softmax')(logits))\n",
    "    model.compile(loss=sparse_categorical_crossentropy,\n",
    "                  optimizer=Adam(learning_rate),\n",
    "                  metrics=['accuracy'])\n",
    "    return model\n",
    "tests.test_embed_model(embed_model)\n",
    "\n",
    "\n",
    "# TODO: Reshape the input\n",
    "tmp_x = pad(preproc_english_sentences, max_french_sequence_length)\n",
    "#tmp_x = tmp_x.reshape((-1, preproc_french_sentences.shape[-2], 1))\n",
    "\n",
    "# TODO: Train the neural network\n",
    "embed_rnn_model = embed_model(\n",
    "    tmp_x.shape,\n",
    "    max_french_sequence_length,\n",
    "    english_vocab_size,\n",
    "    french_vocab_size)\n",
    "embed_rnn_model.fit(tmp_x, preproc_french_sentences, batch_size=1024, epochs=10, validation_split=0.2)\n",
    "\n",
    "# TODO: Print prediction(s)\n",
    "print(logits_to_text(embed_rnn_model.predict(tmp_x[:1])[0], french_tokenizer))"
   ]
  },
  {
   "cell_type": "markdown",
   "metadata": {},
   "source": [
    "### Model 3: Bidirectional RNNs (IMPLEMENTATION)\n",
    "![RNN](images/bidirectional.png)\n",
    "One restriction of a RNN is that it can't see the future input, only the past.  This is where bidirectional recurrent neural networks come in.  They are able to see the future data."
   ]
  },
  {
   "cell_type": "code",
   "execution_count": 24,
   "metadata": {},
   "outputs": [
    {
     "name": "stdout",
     "output_type": "stream",
     "text": [
      "Train on 110288 samples, validate on 27573 samples\n",
      "Epoch 1/10\n",
      "110288/110288 [==============================] - 4s 38us/step - loss: 3.1468 - acc: 0.4675 - val_loss: nan - val_acc: 0.5217\n",
      "Epoch 2/10\n",
      "110288/110288 [==============================] - 3s 28us/step - loss: 1.9226 - acc: 0.5540 - val_loss: nan - val_acc: 0.5762\n",
      "Epoch 3/10\n",
      "110288/110288 [==============================] - 3s 28us/step - loss: 1.6224 - acc: 0.5918 - val_loss: nan - val_acc: 0.6068\n",
      "Epoch 4/10\n",
      "110288/110288 [==============================] - 3s 29us/step - loss: 1.4879 - acc: 0.6126 - val_loss: nan - val_acc: 0.6193\n",
      "Epoch 5/10\n",
      "110288/110288 [==============================] - 3s 29us/step - loss: 1.4083 - acc: 0.6236 - val_loss: nan - val_acc: 0.6312\n",
      "Epoch 6/10\n",
      "110288/110288 [==============================] - 3s 28us/step - loss: 1.3470 - acc: 0.6350 - val_loss: nan - val_acc: 0.6407\n",
      "Epoch 7/10\n",
      "110288/110288 [==============================] - 3s 28us/step - loss: 1.2917 - acc: 0.6450 - val_loss: nan - val_acc: 0.6470\n",
      "Epoch 8/10\n",
      "110288/110288 [==============================] - 3s 28us/step - loss: 1.2443 - acc: 0.6543 - val_loss: nan - val_acc: 0.6593\n",
      "Epoch 9/10\n",
      "110288/110288 [==============================] - 3s 28us/step - loss: 1.2047 - acc: 0.6612 - val_loss: nan - val_acc: 0.6631\n",
      "Epoch 10/10\n",
      "110288/110288 [==============================] - 3s 28us/step - loss: 1.1718 - acc: 0.6662 - val_loss: nan - val_acc: 0.6690\n",
      "new jersey est parfois calme en l' et il est il en en <PAD> <PAD> <PAD> <PAD> <PAD> <PAD> <PAD> <PAD>\n"
     ]
    }
   ],
   "source": [
    "def bd_model(input_shape, output_sequence_length, english_vocab_size, french_vocab_size):\n",
    "    \"\"\"\n",
    "    Build and train a bidirectional RNN model on x and y\n",
    "    :param input_shape: Tuple of input shape\n",
    "    :param output_sequence_length: Length of output sequence\n",
    "    :param english_vocab_size: Number of unique English words in the dataset\n",
    "    :param french_vocab_size: Number of unique French words in the dataset\n",
    "    :return: Keras model built, but not trained\n",
    "    \"\"\"\n",
    "    learning_rate = 1e-3\n",
    "    \n",
    "    input_seq = Input(input_shape[1:])\n",
    "    bd_rnn = Bidirectional(GRU(64, return_sequences=True))(input_seq)\n",
    "    logits = TimeDistributed(Dense(french_vocab_size))(bd_rnn)\n",
    "\n",
    "    model = Model(input_seq, Activation('softmax')(logits))\n",
    "    model.compile(loss=sparse_categorical_crossentropy,\n",
    "                  optimizer=Adam(learning_rate),\n",
    "                  metrics=['accuracy'])\n",
    "    return model\n",
    "tests.test_bd_model(bd_model)\n",
    "\n",
    "\n",
    "# TODO: Train and Print prediction(s)\n",
    "# Reshape the input\n",
    "tmp_x = pad(preproc_english_sentences, max_french_sequence_length)\n",
    "tmp_x = tmp_x.reshape((-1, preproc_french_sentences.shape[-2], 1))\n",
    "\n",
    "# Train the neural network\n",
    "bd_rnn_model = bd_model(\n",
    "    tmp_x.shape,\n",
    "    max_french_sequence_length,\n",
    "    english_vocab_size,\n",
    "    french_vocab_size)\n",
    "bd_rnn_model.fit(tmp_x, preproc_french_sentences, batch_size=1024, epochs=10, validation_split=0.2)\n",
    "\n",
    "# Print prediction(s)\n",
    "print(logits_to_text(bd_rnn_model.predict(tmp_x[:1])[0], french_tokenizer))"
   ]
  },
  {
   "cell_type": "markdown",
   "metadata": {},
   "source": [
    "### Model 4: Encoder-Decoder (OPTIONAL)\n",
    "Time to look at encoder-decoder models.  This model is made up of an encoder and decoder. The encoder creates a matrix representation of the sentence.  The decoder takes this matrix as input and predicts the translation as output.\n",
    "\n",
    "Create an encoder-decoder model in the cell below."
   ]
  },
  {
   "cell_type": "code",
   "execution_count": 88,
   "metadata": {},
   "outputs": [
    {
     "name": "stdout",
     "output_type": "stream",
     "text": [
      "(137861, 15, 1)\n",
      "(137861, 15, 1)\n",
      "Train on 110288 samples, validate on 27573 samples\n",
      "Epoch 1/10\n",
      "110288/110288 [==============================] - 22s 203us/step - loss: 3.2264 - acc: 0.4281 - val_loss: nan - val_acc: 0.4715\n",
      "Epoch 2/10\n",
      "110288/110288 [==============================] - 5s 47us/step - loss: 2.5328 - acc: 0.4752 - val_loss: nan - val_acc: 0.4844\n",
      "Epoch 3/10\n",
      "110288/110288 [==============================] - 5s 45us/step - loss: 2.3497 - acc: 0.4947 - val_loss: nan - val_acc: 0.5045\n",
      "Epoch 4/10\n",
      "110288/110288 [==============================] - 5s 45us/step - loss: 2.2380 - acc: 0.5066 - val_loss: nan - val_acc: 0.5106\n",
      "Epoch 5/10\n",
      "110288/110288 [==============================] - 5s 45us/step - loss: 2.1730 - acc: 0.5128 - val_loss: nan - val_acc: 0.5201\n",
      "Epoch 6/10\n",
      "110288/110288 [==============================] - 5s 45us/step - loss: 2.1119 - acc: 0.5278 - val_loss: nan - val_acc: 0.5280\n",
      "Epoch 7/10\n",
      "110288/110288 [==============================] - 5s 45us/step - loss: 2.0488 - acc: 0.5306 - val_loss: nan - val_acc: 0.5367\n",
      "Epoch 8/10\n",
      "110288/110288 [==============================] - 5s 45us/step - loss: 1.9877 - acc: 0.5381 - val_loss: nan - val_acc: 0.5420\n",
      "Epoch 9/10\n",
      "110288/110288 [==============================] - 5s 45us/step - loss: 1.8875 - acc: 0.5424 - val_loss: nan - val_acc: 0.5532\n",
      "Epoch 10/10\n",
      "110288/110288 [==============================] - 5s 45us/step - loss: 1.7504 - acc: 0.5564 - val_loss: nan - val_acc: 0.5668\n",
      "la est est est en en mais mais il il est en en <PAD> <PAD> <PAD> <PAD> <PAD> <PAD> <PAD> <PAD>\n"
     ]
    }
   ],
   "source": [
    "#\n",
    "# references\n",
    "#   * https://stackoverflow.com/questions/51749404/how-to-connect-lstm-layers-in-keras-repeatvector-or-return-sequence-true\n",
    "#   * https://datascience.stackexchange.com/questions/46491/what-is-the-job-of-repeatvector-and-timedistributed\n",
    "#   * https://programmer.group/keras-implementation-of-seq2seq.html\n",
    "#   * https://www.programcreek.com/python/example/89689/keras.layers.RepeatVector\n",
    "#\n",
    "def encdec_model(input_shape, output_sequence_length, english_vocab_size, french_vocab_size):\n",
    "    \"\"\"\n",
    "    Build and train an encoder-decoder model on x and y\n",
    "    :param input_shape: Tuple of input shape\n",
    "    :param output_sequence_length: Length of output sequence\n",
    "    :param english_vocab_size: Number of unique English words in the dataset\n",
    "    :param french_vocab_size: Number of unique French words in the dataset\n",
    "    :return: Keras model built, but not trained\n",
    "    \"\"\"\n",
    "    # OPTIONAL: Implement\n",
    "    learning_rate = 1e-3\n",
    "    \n",
    "    print(input_shape)\n",
    "    state_dim = 64\n",
    "    input_seq = Input(input_shape[1:])\n",
    "    enc_rnn = GRU(state_dim, return_sequences=True)(input_seq)\n",
    "    enc_rnn = GRU(state_dim)(enc_rnn)\n",
    "    #print(\"enc_rnn.shape\", enc_rnn.shape)\n",
    "    enc_out = RepeatVector(output_sequence_length)(enc_rnn)\n",
    "    #print(\"enc_out.shape\", enc_out.shape) \n",
    "    #dec_rnn = GRU(state_dim)(enc_out)\n",
    "    dec_rnn = GRU(state_dim, return_sequences=True)(enc_out)\n",
    "    dec_rnn = GRU(state_dim, return_sequences=True)(dec_rnn)\n",
    "    #print(\"dec_rnn.shape\", dec_rnn.shape)\n",
    "    #dec_out = RepeatVector(output_sequence_length)(dec_rnn)\n",
    "    #print(\"dec_out.shape\", dec_out.shape)\n",
    "    dec_out = dec_rnn\n",
    "    logits = TimeDistributed(Dense(french_vocab_size))(dec_out)\n",
    "    #print(\"logits.shape\", logits.shape)\n",
    "\n",
    "    model = Model(input_seq, Activation('softmax')(logits))\n",
    "    model.compile(loss=sparse_categorical_crossentropy,\n",
    "                  optimizer=Adam(learning_rate),\n",
    "                  metrics=['accuracy'])\n",
    "    return model\n",
    "tests.test_encdec_model(encdec_model)\n",
    "\n",
    "\n",
    "# OPTIONAL: Train and Print prediction(s)\n",
    "# Reshape the input\n",
    "tmp_x = pad(preproc_english_sentences, max_english_sequence_length)\n",
    "tmp_x = tmp_x.reshape((-1, max_english_sequence_length, 1))\n",
    "\n",
    "# Train the neural network\n",
    "encdec_rnn_model = encdec_model(\n",
    "    tmp_x.shape,\n",
    "    max_french_sequence_length,\n",
    "    english_vocab_size,\n",
    "    french_vocab_size)\n",
    "encdec_rnn_model.fit(tmp_x, preproc_french_sentences, batch_size=1024, epochs=10, validation_split=0.2)\n",
    "\n",
    "# Print prediction(s)\n",
    "print(logits_to_text(encdec_rnn_model.predict(tmp_x[:1])[0], french_tokenizer))"
   ]
  },
  {
   "cell_type": "markdown",
   "metadata": {},
   "source": [
    "### Model 5: Custom (IMPLEMENTATION)\n",
    "Use everything you learned from the previous models to create a model that incorporates embedding and a bidirectional rnn into one model."
   ]
  },
  {
   "cell_type": "code",
   "execution_count": 89,
   "metadata": {
    "scrolled": false
   },
   "outputs": [
    {
     "name": "stdout",
     "output_type": "stream",
     "text": [
      "Final Model Loaded\n",
      "Train on 110288 samples, validate on 27573 samples\n",
      "Epoch 1/20\n",
      "110288/110288 [==============================] - 37s 340us/step - loss: 2.1895 - acc: 0.5289 - val_loss: nan - val_acc: 0.6206\n",
      "Epoch 2/20\n",
      "110288/110288 [==============================] - 19s 172us/step - loss: 1.2252 - acc: 0.6593 - val_loss: nan - val_acc: 0.6835\n",
      "Epoch 3/20\n",
      "110288/110288 [==============================] - 19s 172us/step - loss: 1.0219 - acc: 0.7053 - val_loss: nan - val_acc: 0.7191\n",
      "Epoch 4/20\n",
      "110288/110288 [==============================] - 19s 172us/step - loss: 0.9104 - acc: 0.7302 - val_loss: nan - val_acc: 0.7455\n",
      "Epoch 5/20\n",
      "110288/110288 [==============================] - 19s 172us/step - loss: 0.8158 - acc: 0.7517 - val_loss: nan - val_acc: 0.7534\n",
      "Epoch 6/20\n",
      "110288/110288 [==============================] - 19s 172us/step - loss: 0.7390 - acc: 0.7698 - val_loss: nan - val_acc: 0.7810\n",
      "Epoch 7/20\n",
      "110288/110288 [==============================] - 19s 172us/step - loss: 0.6743 - acc: 0.7868 - val_loss: nan - val_acc: 0.7938\n",
      "Epoch 8/20\n",
      "110288/110288 [==============================] - 19s 172us/step - loss: 0.6237 - acc: 0.7999 - val_loss: nan - val_acc: 0.8049\n",
      "Epoch 9/20\n",
      "110288/110288 [==============================] - 19s 172us/step - loss: 0.5756 - acc: 0.8150 - val_loss: nan - val_acc: 0.8208\n",
      "Epoch 10/20\n",
      "110288/110288 [==============================] - 19s 172us/step - loss: 0.5299 - acc: 0.8321 - val_loss: nan - val_acc: 0.8429\n",
      "Epoch 11/20\n",
      "110288/110288 [==============================] - 19s 174us/step - loss: 0.4815 - acc: 0.8476 - val_loss: nan - val_acc: 0.8570\n",
      "Epoch 12/20\n",
      "110288/110288 [==============================] - 20s 183us/step - loss: 0.4350 - acc: 0.8627 - val_loss: nan - val_acc: 0.8678\n",
      "Epoch 13/20\n",
      "110288/110288 [==============================] - 19s 173us/step - loss: 0.3944 - acc: 0.8769 - val_loss: nan - val_acc: 0.8841\n",
      "Epoch 14/20\n",
      "110288/110288 [==============================] - 19s 172us/step - loss: 0.3578 - acc: 0.8893 - val_loss: nan - val_acc: 0.8940\n",
      "Epoch 15/20\n",
      "110288/110288 [==============================] - 19s 172us/step - loss: 0.3299 - acc: 0.8988 - val_loss: nan - val_acc: 0.8999\n",
      "Epoch 16/20\n",
      "110288/110288 [==============================] - 19s 172us/step - loss: 0.2955 - acc: 0.9104 - val_loss: nan - val_acc: 0.9054\n",
      "Epoch 17/20\n",
      "110288/110288 [==============================] - 19s 172us/step - loss: 0.2644 - acc: 0.9215 - val_loss: nan - val_acc: 0.9233\n",
      "Epoch 18/20\n",
      "110288/110288 [==============================] - 19s 172us/step - loss: 0.2336 - acc: 0.9309 - val_loss: nan - val_acc: 0.9364\n",
      "Epoch 19/20\n",
      "110288/110288 [==============================] - 19s 174us/step - loss: 0.2052 - acc: 0.9401 - val_loss: nan - val_acc: 0.9421\n",
      "Epoch 20/20\n",
      "110288/110288 [==============================] - 19s 173us/step - loss: 0.1858 - acc: 0.9461 - val_loss: nan - val_acc: 0.9415\n",
      "new jersey est parfois calme pendant l' et et il est en avril <PAD> <PAD> <PAD> <PAD> <PAD> <PAD> <PAD> <PAD>\n"
     ]
    }
   ],
   "source": [
    "def model_final(input_shape, output_sequence_length, english_vocab_size, french_vocab_size):\n",
    "    \"\"\"\n",
    "    Build and train a model that incorporates embedding, encoder-decoder, and bidirectional RNN on x and y\n",
    "    :param input_shape: Tuple of input shape\n",
    "    :param output_sequence_length: Length of output sequence\n",
    "    :param english_vocab_size: Number of unique English words in the dataset\n",
    "    :param french_vocab_size: Number of unique French words in the dataset\n",
    "    :return: Keras model built, but not trained\n",
    "    \"\"\"\n",
    "    # TODO: Implement\n",
    "    learning_rate = 1e-3\n",
    "    \n",
    "    state_dim = 128\n",
    "    \n",
    "    input_seq = Input(input_shape[1:])\n",
    "    embed_seq = Embedding(english_vocab_size, state_dim, input_length=input_shape[1])(input_seq)\n",
    "    enc_rnn = Bidirectional(GRU(state_dim, return_sequences=True))(embed_seq)\n",
    "    enc_rnn = Bidirectional(GRU(state_dim, return_sequences=True))(enc_rnn)\n",
    "    enc_rnn = Bidirectional(GRU(state_dim))(embed_seq)\n",
    "    #print(\"enc_rnn.shape\", enc_rnn.shape)\n",
    "    enc_out = RepeatVector(output_sequence_length)(enc_rnn)\n",
    "    #print(\"enc_out.shape\", enc_out.shape) \n",
    "    #dec_rnn = GRU(64)(enc_out)\n",
    "    dec_rnn = Bidirectional(GRU(state_dim, return_sequences=True))(enc_out)\n",
    "    dec_rnn = Bidirectional(GRU(state_dim, return_sequences=True))(dec_rnn)\n",
    "    dec_rnn = Bidirectional(GRU(state_dim, return_sequences=True))(dec_rnn)\n",
    "    #print(\"dec_rnn.shape\", dec_rnn.shape)\n",
    "    #dec_out = RepeatVector(output_sequence_length)(dec_rnn)\n",
    "    #print(\"dec_out.shape\", dec_out.shape)\n",
    "    dec_out = dec_rnn\n",
    "    logits = TimeDistributed(Dense(french_vocab_size))(dec_out)\n",
    "    #print(\"logits.shape\", logits.shape)\n",
    "\n",
    "    model = Model(input_seq, Activation('softmax')(logits))\n",
    "    model.compile(loss=sparse_categorical_crossentropy,\n",
    "                  optimizer=Adam(learning_rate),\n",
    "                  metrics=['accuracy'])\n",
    "    return model\n",
    "\n",
    "tests.test_model_final(model_final)\n",
    "\n",
    "\n",
    "print('Final Model Loaded')\n",
    "# TODO: Train the final model\n",
    "# TODO: Reshape the input\n",
    "tmp_x = pad(preproc_english_sentences, max_english_sequence_length)\n",
    "\n",
    "# TODO: Train the neural network\n",
    "final_rnn_model = model_final(\n",
    "    tmp_x.shape,\n",
    "    max_french_sequence_length,\n",
    "    english_vocab_size,\n",
    "    french_vocab_size)\n",
    "final_rnn_model.fit(tmp_x, preproc_french_sentences, batch_size=512, epochs=20, validation_split=0.2)\n",
    "\n",
    "# TODO: Print prediction(s)\n",
    "print(logits_to_text(final_rnn_model.predict(tmp_x[:1])[0], french_tokenizer))"
   ]
  },
  {
   "cell_type": "markdown",
   "metadata": {},
   "source": [
    "## Prediction (IMPLEMENTATION)"
   ]
  },
  {
   "cell_type": "code",
   "execution_count": 90,
   "metadata": {
    "scrolled": false
   },
   "outputs": [
    {
     "name": "stdout",
     "output_type": "stream",
     "text": [
      "Train on 110288 samples, validate on 27573 samples\n",
      "Epoch 1/50\n",
      "110288/110288 [==============================] - 38s 346us/step - loss: 2.1677 - acc: 0.5271 - val_loss: nan - val_acc: 0.6177\n",
      "Epoch 2/50\n",
      "110288/110288 [==============================] - 19s 173us/step - loss: 1.2418 - acc: 0.6569 - val_loss: nan - val_acc: 0.6930\n",
      "Epoch 3/50\n",
      "110288/110288 [==============================] - 19s 173us/step - loss: 1.0234 - acc: 0.7070 - val_loss: nan - val_acc: 0.7191\n",
      "Epoch 4/50\n",
      "110288/110288 [==============================] - 19s 173us/step - loss: 0.9116 - acc: 0.7317 - val_loss: nan - val_acc: 0.7416\n",
      "Epoch 5/50\n",
      "110288/110288 [==============================] - 19s 173us/step - loss: 0.8221 - acc: 0.7517 - val_loss: nan - val_acc: 0.7598\n",
      "Epoch 6/50\n",
      "110288/110288 [==============================] - 19s 173us/step - loss: 0.7608 - acc: 0.7672 - val_loss: nan - val_acc: 0.7756\n",
      "Epoch 7/50\n",
      "110288/110288 [==============================] - 19s 173us/step - loss: 0.6991 - acc: 0.7856 - val_loss: nan - val_acc: 0.7963\n",
      "Epoch 8/50\n",
      "110288/110288 [==============================] - 19s 173us/step - loss: 0.6323 - acc: 0.8038 - val_loss: nan - val_acc: 0.8079\n",
      "Epoch 9/50\n",
      "110288/110288 [==============================] - 19s 173us/step - loss: 0.5651 - acc: 0.8217 - val_loss: nan - val_acc: 0.8306\n",
      "Epoch 10/50\n",
      "110288/110288 [==============================] - 19s 173us/step - loss: 0.5097 - acc: 0.8384 - val_loss: nan - val_acc: 0.8446\n",
      "Epoch 11/50\n",
      "110288/110288 [==============================] - 19s 173us/step - loss: 0.4624 - acc: 0.8527 - val_loss: nan - val_acc: 0.8634\n",
      "Epoch 12/50\n",
      "110288/110288 [==============================] - 19s 173us/step - loss: 0.4150 - acc: 0.8685 - val_loss: nan - val_acc: 0.8764\n",
      "Epoch 13/50\n",
      "110288/110288 [==============================] - 19s 173us/step - loss: 0.3734 - acc: 0.8819 - val_loss: nan - val_acc: 0.8873\n",
      "Epoch 14/50\n",
      "110288/110288 [==============================] - 19s 173us/step - loss: 0.3380 - acc: 0.8931 - val_loss: nan - val_acc: 0.8960\n",
      "Epoch 15/50\n",
      "110288/110288 [==============================] - 19s 173us/step - loss: 0.3048 - acc: 0.9040 - val_loss: nan - val_acc: 0.8966\n",
      "Epoch 16/50\n",
      "110288/110288 [==============================] - 19s 173us/step - loss: 0.2780 - acc: 0.9137 - val_loss: nan - val_acc: 0.9187\n",
      "Epoch 17/50\n",
      "110288/110288 [==============================] - 19s 173us/step - loss: 0.2523 - acc: 0.9225 - val_loss: nan - val_acc: 0.9249\n",
      "Epoch 18/50\n",
      "110288/110288 [==============================] - 19s 173us/step - loss: 0.2276 - acc: 0.9309 - val_loss: nan - val_acc: 0.9374\n",
      "Epoch 19/50\n",
      "110288/110288 [==============================] - 19s 173us/step - loss: 0.2025 - acc: 0.9410 - val_loss: nan - val_acc: 0.9408\n",
      "Epoch 20/50\n",
      "110288/110288 [==============================] - 19s 173us/step - loss: 0.1869 - acc: 0.9464 - val_loss: nan - val_acc: 0.9503\n",
      "Epoch 21/50\n",
      "110288/110288 [==============================] - 19s 173us/step - loss: 0.1583 - acc: 0.9554 - val_loss: nan - val_acc: 0.9536\n",
      "Epoch 22/50\n",
      "110288/110288 [==============================] - 19s 173us/step - loss: 0.1465 - acc: 0.9585 - val_loss: nan - val_acc: 0.9569\n",
      "Epoch 23/50\n",
      "110288/110288 [==============================] - 19s 173us/step - loss: 0.1343 - acc: 0.9623 - val_loss: nan - val_acc: 0.9606\n",
      "Epoch 24/50\n",
      "110288/110288 [==============================] - 19s 173us/step - loss: 0.1216 - acc: 0.9660 - val_loss: nan - val_acc: 0.9651\n",
      "Epoch 25/50\n",
      "110288/110288 [==============================] - 19s 173us/step - loss: 0.1155 - acc: 0.9671 - val_loss: nan - val_acc: 0.9656\n",
      "Epoch 26/50\n",
      "110288/110288 [==============================] - 19s 173us/step - loss: 0.1024 - acc: 0.9710 - val_loss: nan - val_acc: 0.9686\n",
      "Epoch 27/50\n",
      "110288/110288 [==============================] - 19s 173us/step - loss: 0.0988 - acc: 0.9714 - val_loss: nan - val_acc: 0.9696\n",
      "Epoch 28/50\n",
      "110288/110288 [==============================] - 19s 173us/step - loss: 0.0851 - acc: 0.9757 - val_loss: nan - val_acc: 0.9715\n",
      "Epoch 29/50\n",
      "110288/110288 [==============================] - 19s 173us/step - loss: 0.0813 - acc: 0.9765 - val_loss: nan - val_acc: 0.9716\n",
      "Epoch 30/50\n",
      "110288/110288 [==============================] - 19s 173us/step - loss: 0.0798 - acc: 0.9770 - val_loss: nan - val_acc: 0.9730\n",
      "Epoch 31/50\n",
      "110288/110288 [==============================] - 19s 173us/step - loss: 0.0823 - acc: 0.9762 - val_loss: nan - val_acc: 0.9738\n",
      "Epoch 32/50\n",
      "110288/110288 [==============================] - 19s 173us/step - loss: 0.0733 - acc: 0.9786 - val_loss: nan - val_acc: 0.9714\n",
      "Epoch 33/50\n",
      "110288/110288 [==============================] - 19s 173us/step - loss: 0.0672 - acc: 0.9804 - val_loss: nan - val_acc: 0.9752\n",
      "Epoch 34/50\n",
      "110288/110288 [==============================] - 19s 173us/step - loss: 0.0640 - acc: 0.9813 - val_loss: nan - val_acc: 0.9745\n",
      "Epoch 35/50\n",
      "110288/110288 [==============================] - 19s 173us/step - loss: 0.0666 - acc: 0.9806 - val_loss: nan - val_acc: 0.9771\n",
      "Epoch 36/50\n",
      "110288/110288 [==============================] - 19s 175us/step - loss: 0.0534 - acc: 0.9844 - val_loss: nan - val_acc: 0.9785\n",
      "Epoch 37/50\n",
      "110288/110288 [==============================] - 19s 175us/step - loss: 0.0549 - acc: 0.9840 - val_loss: nan - val_acc: 0.9633\n",
      "Epoch 38/50\n",
      "110288/110288 [==============================] - 19s 173us/step - loss: 0.0755 - acc: 0.9779 - val_loss: nan - val_acc: 0.9783\n",
      "Epoch 39/50\n",
      "110288/110288 [==============================] - 19s 173us/step - loss: 0.0562 - acc: 0.9835 - val_loss: nan - val_acc: 0.9777\n",
      "Epoch 40/50\n",
      "110288/110288 [==============================] - 19s 173us/step - loss: 0.0478 - acc: 0.9859 - val_loss: nan - val_acc: 0.9796\n",
      "Epoch 41/50\n",
      "110288/110288 [==============================] - 19s 174us/step - loss: 0.0454 - acc: 0.9866 - val_loss: nan - val_acc: 0.9768\n",
      "Epoch 42/50\n",
      "110288/110288 [==============================] - 19s 174us/step - loss: 0.0471 - acc: 0.9861 - val_loss: nan - val_acc: 0.9799\n",
      "Epoch 43/50\n",
      "110288/110288 [==============================] - 19s 173us/step - loss: 0.0409 - acc: 0.9878 - val_loss: nan - val_acc: 0.9740\n",
      "Epoch 44/50\n",
      "110288/110288 [==============================] - 19s 174us/step - loss: 0.0462 - acc: 0.9862 - val_loss: nan - val_acc: 0.9782\n",
      "Epoch 45/50\n",
      "110288/110288 [==============================] - 19s 174us/step - loss: 0.0490 - acc: 0.9856 - val_loss: nan - val_acc: 0.9730\n",
      "Epoch 46/50\n",
      "110288/110288 [==============================] - 19s 174us/step - loss: 0.0460 - acc: 0.9862 - val_loss: nan - val_acc: 0.9803\n",
      "Epoch 47/50\n",
      "110288/110288 [==============================] - 19s 173us/step - loss: 0.0349 - acc: 0.9896 - val_loss: nan - val_acc: 0.9820\n",
      "Epoch 48/50\n",
      "110288/110288 [==============================] - 19s 174us/step - loss: 0.0365 - acc: 0.9892 - val_loss: nan - val_acc: 0.9720\n",
      "Epoch 49/50\n",
      "110288/110288 [==============================] - 19s 173us/step - loss: 0.0440 - acc: 0.9873 - val_loss: nan - val_acc: 0.9624\n",
      "Epoch 50/50\n",
      "110288/110288 [==============================] - 19s 173us/step - loss: 0.0570 - acc: 0.9831 - val_loss: nan - val_acc: 0.9796\n",
      "Sample 1:\n",
      "il a vu un vieux camion jaune <PAD> <PAD> <PAD> <PAD> <PAD> <PAD> <PAD> <PAD> <PAD> <PAD> <PAD> <PAD> <PAD> <PAD>\n",
      "Il a vu un vieux camion jaune\n",
      "Sample 2:\n",
      "new jersey est parfois calme pendant l' automne et il est neigeux en avril <PAD> <PAD> <PAD> <PAD> <PAD> <PAD> <PAD>\n",
      "new jersey est parfois calme pendant l' automne et il est neigeux en avril <PAD> <PAD> <PAD> <PAD> <PAD> <PAD> <PAD>\n"
     ]
    }
   ],
   "source": [
    "def final_predictions(x, y, x_tk, y_tk):\n",
    "    \"\"\"\n",
    "    Gets predictions using the final model\n",
    "    :param x: Preprocessed English data\n",
    "    :param y: Preprocessed French data\n",
    "    :param x_tk: English tokenizer\n",
    "    :param y_tk: French tokenizer\n",
    "    \"\"\"\n",
    "    # TODO: Train neural network using model_final\n",
    "    max_english_sequence_length = x.shape[1]\n",
    "    max_french_sequence_length = y.shape[1]\n",
    "    english_vocab_size = len(x_tk.word_index)\n",
    "    french_vocab_size = len(y_tk.word_index)\n",
    "\n",
    "    tmp_x = pad(x, x.shape[1])\n",
    "\n",
    "    model = model_final(\n",
    "        tmp_x.shape,\n",
    "        max_french_sequence_length,\n",
    "        english_vocab_size,\n",
    "        french_vocab_size)\n",
    "    model.fit(tmp_x, y, batch_size=512, epochs=50, validation_split=0.2)\n",
    "\n",
    "    \n",
    "    ## DON'T EDIT ANYTHING BELOW THIS LINE\n",
    "    y_id_to_word = {value: key for key, value in y_tk.word_index.items()}\n",
    "    y_id_to_word[0] = '<PAD>'\n",
    "\n",
    "    sentence = 'he saw a old yellow truck'\n",
    "    sentence = [x_tk.word_index[word] for word in sentence.split()]\n",
    "    sentence = pad_sequences([sentence], maxlen=x.shape[-1], padding='post')\n",
    "    sentences = np.array([sentence[0], x[0]])\n",
    "    predictions = model.predict(sentences, len(sentences))\n",
    "\n",
    "    print('Sample 1:')\n",
    "    print(' '.join([y_id_to_word[np.argmax(x)] for x in predictions[0]]))\n",
    "    print('Il a vu un vieux camion jaune')\n",
    "    print('Sample 2:')\n",
    "    print(' '.join([y_id_to_word[np.argmax(x)] for x in predictions[1]]))\n",
    "    print(' '.join([y_id_to_word[np.max(x)] for x in y[0]]))\n",
    "\n",
    "\n",
    "final_predictions(preproc_english_sentences, preproc_french_sentences, english_tokenizer, french_tokenizer)"
   ]
  },
  {
   "cell_type": "markdown",
   "metadata": {},
   "source": [
    "## Submission\n",
    "When you're ready to submit, complete the following steps:\n",
    "1. Review the [rubric](https://review.udacity.com/#!/rubrics/1004/view) to ensure your submission meets all requirements to pass\n",
    "2. Generate an HTML version of this notebook\n",
    "\n",
    "  - Run the next cell to attempt automatic generation (this is the recommended method in Workspaces)\n",
    "  - Navigate to **FILE -> Download as -> HTML (.html)**\n",
    "  - Manually generate a copy using `nbconvert` from your shell terminal\n",
    "```\n",
    "$ pip install nbconvert\n",
    "$ python -m nbconvert machine_translation.ipynb\n",
    "```\n",
    "  \n",
    "3. Submit the project\n",
    "\n",
    "  - If you are in a Workspace, simply click the \"Submit Project\" button (bottom towards the right)\n",
    "  \n",
    "  - Otherwise, add the following files into a zip archive and submit them \n",
    "  - `helper.py`\n",
    "  - `machine_translation.ipynb`\n",
    "  - `machine_translation.html`\n",
    "    - You can export the notebook by navigating to **File -> Download as -> HTML (.html)**."
   ]
  },
  {
   "cell_type": "code",
   "execution_count": null,
   "metadata": {},
   "outputs": [],
   "source": [
    "!!python -m nbconvert *.ipynb"
   ]
  },
  {
   "cell_type": "markdown",
   "metadata": {},
   "source": [
    "## Optional Enhancements\n",
    "\n",
    "This project focuses on learning various network architectures for machine translation, but we don't evaluate the models according to best practices by splitting the data into separate test & training sets -- so the model accuracy is overstated. Use the [`sklearn.model_selection.train_test_split()`](http://scikit-learn.org/stable/modules/generated/sklearn.model_selection.train_test_split.html) function to create separate training & test datasets, then retrain each of the models using only the training set and evaluate the prediction accuracy using the hold out test set. Does the \"best\" model change?"
   ]
  }
 ],
 "metadata": {
  "kernelspec": {
   "display_name": "Python 3",
   "language": "python",
   "name": "python3"
  },
  "language_info": {
   "codemirror_mode": {
    "name": "ipython",
    "version": 3
   },
   "file_extension": ".py",
   "mimetype": "text/x-python",
   "name": "python",
   "nbconvert_exporter": "python",
   "pygments_lexer": "ipython3",
   "version": "3.6.8"
  }
 },
 "nbformat": 4,
 "nbformat_minor": 1
}
